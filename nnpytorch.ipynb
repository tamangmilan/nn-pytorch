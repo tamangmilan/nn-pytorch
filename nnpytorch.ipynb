{
  "nbformat": 4,
  "nbformat_minor": 0,
  "metadata": {
    "colab": {
      "provenance": [],
      "authorship_tag": "ABX9TyNi3rXDo7AJgCAWWNeWkp8N",
      "include_colab_link": true
    },
    "kernelspec": {
      "name": "python3",
      "display_name": "Python 3"
    },
    "language_info": {
      "name": "python"
    }
  },
  "cells": [
    {
      "cell_type": "markdown",
      "metadata": {
        "id": "view-in-github",
        "colab_type": "text"
      },
      "source": [
        "<a href=\"https://colab.research.google.com/github/tamangmilan/nn-pytorch/blob/main/nnpytorch.ipynb\" target=\"_parent\"><img src=\"https://colab.research.google.com/assets/colab-badge.svg\" alt=\"Open In Colab\"/></a>"
      ]
    },
    {
      "cell_type": "markdown",
      "source": [
        "# **Building Neural Network: With Real-World Dataset Using PyTorch**\n",
        "\n",
        "**A Step-by-Step Guide to Build and Train Neural Network with FitBit Fitness Tracker Dataset**\n",
        "\n",
        "\n",
        "By the end of this post, you'll be able to build your own Neural Network model, train your model with FitBit Fitness Tracker Dataset which is a real world dataset obtain from Kaggle.\n",
        "\n",
        "And finally, given a new set of user activity feature like TotalSteps, TotalDistance, VeryActiveMinutes, your model can use its intelligence to predict the total calory burn which is the main goal of the model.\n",
        "\n",
        "You can easily achieve all above with following 6 simple steps.\n",
        "\n",
        "1. Import required libraries\n",
        "2. Load and prepare the data\n",
        "3. Define the model\n",
        "4. Train and evaluate the model\n",
        "5. Analyse the training and evaluation result\n",
        "6. Make prediction on new data\n",
        "\n",
        "Pre-requisite: You should have basic knowledge of Python, PyTorch and Neural Network basic concept to be able to follow through this post more effectively.\n",
        "\n",
        "Lets get started."
      ],
      "metadata": {
        "id": "T-x8Z7q_hHJB"
      }
    },
    {
      "cell_type": "markdown",
      "source": [
        "## **Step 1: Import required libraries**\n",
        "\n",
        "The firs step is to import the required classes, functions and modules given below. More details on each items will be provided during respective implementation later in this post. Before running the import code below, make sure you have the latest version of python and PyTorch installed. I'm using google colab notebook for this project and will share my google colab notebook at the end of this post."
      ],
      "metadata": {
        "id": "5RPFTCZIw2NX"
      }
    },
    {
      "cell_type": "code",
      "source": [
        "# Import required libraries\n",
        "\n",
        "import torch\n",
        "import pandas as pd\n",
        "import numpy as np\n",
        "\n",
        "import torch.nn as nn\n",
        "from torch.utils.data import DataLoader, TensorDataset\n",
        "from sklearn.model_selection import train_test_split\n",
        "\n",
        "import matplotlib.pyplot as plt"
      ],
      "metadata": {
        "id": "Assc3jEAW8OR"
      },
      "execution_count": 1,
      "outputs": []
    },
    {
      "cell_type": "markdown",
      "source": [
        "## **Step 2: Load and prepare the data**\n",
        "\n",
        " First of all, download FitBit Fitness Tracker Dataset here. Load the dataset file [dailyActivity_merged.csv] using panda into the DataFrame variable as below and verify the data by visualizing it.\n",
        ""
      ],
      "metadata": {
        "id": "HncX2pDH3w-C"
      }
    },
    {
      "cell_type": "code",
      "source": [
        "fitbit_df = pd.read_csv(\"/content/dailyActivity_merged.csv\")\n",
        "fitbit_df.head()"
      ],
      "metadata": {
        "colab": {
          "base_uri": "https://localhost:8080/",
          "height": 226
        },
        "id": "-8_fReqc1bK9",
        "outputId": "7a58b1d2-f9ff-465d-aad3-cfdd00864616"
      },
      "execution_count": 2,
      "outputs": [
        {
          "output_type": "execute_result",
          "data": {
            "text/plain": [
              "           Id ActivityDate  TotalSteps  TotalDistance  TrackerDistance  \\\n",
              "0  1503960366    4/12/2016       13162           8.50             8.50   \n",
              "1  1503960366    4/13/2016       10735           6.97             6.97   \n",
              "2  1503960366    4/14/2016       10460           6.74             6.74   \n",
              "3  1503960366    4/15/2016        9762           6.28             6.28   \n",
              "4  1503960366    4/16/2016       12669           8.16             8.16   \n",
              "\n",
              "   LoggedActivitiesDistance  VeryActiveDistance  ModeratelyActiveDistance  \\\n",
              "0                       0.0                1.88                      0.55   \n",
              "1                       0.0                1.57                      0.69   \n",
              "2                       0.0                2.44                      0.40   \n",
              "3                       0.0                2.14                      1.26   \n",
              "4                       0.0                2.71                      0.41   \n",
              "\n",
              "   LightActiveDistance  SedentaryActiveDistance  VeryActiveMinutes  \\\n",
              "0                 6.06                      0.0                 25   \n",
              "1                 4.71                      0.0                 21   \n",
              "2                 3.91                      0.0                 30   \n",
              "3                 2.83                      0.0                 29   \n",
              "4                 5.04                      0.0                 36   \n",
              "\n",
              "   FairlyActiveMinutes  LightlyActiveMinutes  SedentaryMinutes  Calories  \n",
              "0                   13                   328               728      1985  \n",
              "1                   19                   217               776      1797  \n",
              "2                   11                   181              1218      1776  \n",
              "3                   34                   209               726      1745  \n",
              "4                   10                   221               773      1863  "
            ],
            "text/html": [
              "\n",
              "  <div id=\"df-1882fee7-119e-4f1c-8ca7-c2d02cb2a663\" class=\"colab-df-container\">\n",
              "    <div>\n",
              "<style scoped>\n",
              "    .dataframe tbody tr th:only-of-type {\n",
              "        vertical-align: middle;\n",
              "    }\n",
              "\n",
              "    .dataframe tbody tr th {\n",
              "        vertical-align: top;\n",
              "    }\n",
              "\n",
              "    .dataframe thead th {\n",
              "        text-align: right;\n",
              "    }\n",
              "</style>\n",
              "<table border=\"1\" class=\"dataframe\">\n",
              "  <thead>\n",
              "    <tr style=\"text-align: right;\">\n",
              "      <th></th>\n",
              "      <th>Id</th>\n",
              "      <th>ActivityDate</th>\n",
              "      <th>TotalSteps</th>\n",
              "      <th>TotalDistance</th>\n",
              "      <th>TrackerDistance</th>\n",
              "      <th>LoggedActivitiesDistance</th>\n",
              "      <th>VeryActiveDistance</th>\n",
              "      <th>ModeratelyActiveDistance</th>\n",
              "      <th>LightActiveDistance</th>\n",
              "      <th>SedentaryActiveDistance</th>\n",
              "      <th>VeryActiveMinutes</th>\n",
              "      <th>FairlyActiveMinutes</th>\n",
              "      <th>LightlyActiveMinutes</th>\n",
              "      <th>SedentaryMinutes</th>\n",
              "      <th>Calories</th>\n",
              "    </tr>\n",
              "  </thead>\n",
              "  <tbody>\n",
              "    <tr>\n",
              "      <th>0</th>\n",
              "      <td>1503960366</td>\n",
              "      <td>4/12/2016</td>\n",
              "      <td>13162</td>\n",
              "      <td>8.50</td>\n",
              "      <td>8.50</td>\n",
              "      <td>0.0</td>\n",
              "      <td>1.88</td>\n",
              "      <td>0.55</td>\n",
              "      <td>6.06</td>\n",
              "      <td>0.0</td>\n",
              "      <td>25</td>\n",
              "      <td>13</td>\n",
              "      <td>328</td>\n",
              "      <td>728</td>\n",
              "      <td>1985</td>\n",
              "    </tr>\n",
              "    <tr>\n",
              "      <th>1</th>\n",
              "      <td>1503960366</td>\n",
              "      <td>4/13/2016</td>\n",
              "      <td>10735</td>\n",
              "      <td>6.97</td>\n",
              "      <td>6.97</td>\n",
              "      <td>0.0</td>\n",
              "      <td>1.57</td>\n",
              "      <td>0.69</td>\n",
              "      <td>4.71</td>\n",
              "      <td>0.0</td>\n",
              "      <td>21</td>\n",
              "      <td>19</td>\n",
              "      <td>217</td>\n",
              "      <td>776</td>\n",
              "      <td>1797</td>\n",
              "    </tr>\n",
              "    <tr>\n",
              "      <th>2</th>\n",
              "      <td>1503960366</td>\n",
              "      <td>4/14/2016</td>\n",
              "      <td>10460</td>\n",
              "      <td>6.74</td>\n",
              "      <td>6.74</td>\n",
              "      <td>0.0</td>\n",
              "      <td>2.44</td>\n",
              "      <td>0.40</td>\n",
              "      <td>3.91</td>\n",
              "      <td>0.0</td>\n",
              "      <td>30</td>\n",
              "      <td>11</td>\n",
              "      <td>181</td>\n",
              "      <td>1218</td>\n",
              "      <td>1776</td>\n",
              "    </tr>\n",
              "    <tr>\n",
              "      <th>3</th>\n",
              "      <td>1503960366</td>\n",
              "      <td>4/15/2016</td>\n",
              "      <td>9762</td>\n",
              "      <td>6.28</td>\n",
              "      <td>6.28</td>\n",
              "      <td>0.0</td>\n",
              "      <td>2.14</td>\n",
              "      <td>1.26</td>\n",
              "      <td>2.83</td>\n",
              "      <td>0.0</td>\n",
              "      <td>29</td>\n",
              "      <td>34</td>\n",
              "      <td>209</td>\n",
              "      <td>726</td>\n",
              "      <td>1745</td>\n",
              "    </tr>\n",
              "    <tr>\n",
              "      <th>4</th>\n",
              "      <td>1503960366</td>\n",
              "      <td>4/16/2016</td>\n",
              "      <td>12669</td>\n",
              "      <td>8.16</td>\n",
              "      <td>8.16</td>\n",
              "      <td>0.0</td>\n",
              "      <td>2.71</td>\n",
              "      <td>0.41</td>\n",
              "      <td>5.04</td>\n",
              "      <td>0.0</td>\n",
              "      <td>36</td>\n",
              "      <td>10</td>\n",
              "      <td>221</td>\n",
              "      <td>773</td>\n",
              "      <td>1863</td>\n",
              "    </tr>\n",
              "  </tbody>\n",
              "</table>\n",
              "</div>\n",
              "    <div class=\"colab-df-buttons\">\n",
              "\n",
              "  <div class=\"colab-df-container\">\n",
              "    <button class=\"colab-df-convert\" onclick=\"convertToInteractive('df-1882fee7-119e-4f1c-8ca7-c2d02cb2a663')\"\n",
              "            title=\"Convert this dataframe to an interactive table.\"\n",
              "            style=\"display:none;\">\n",
              "\n",
              "  <svg xmlns=\"http://www.w3.org/2000/svg\" height=\"24px\" viewBox=\"0 -960 960 960\">\n",
              "    <path d=\"M120-120v-720h720v720H120Zm60-500h600v-160H180v160Zm220 220h160v-160H400v160Zm0 220h160v-160H400v160ZM180-400h160v-160H180v160Zm440 0h160v-160H620v160ZM180-180h160v-160H180v160Zm440 0h160v-160H620v160Z\"/>\n",
              "  </svg>\n",
              "    </button>\n",
              "\n",
              "  <style>\n",
              "    .colab-df-container {\n",
              "      display:flex;\n",
              "      gap: 12px;\n",
              "    }\n",
              "\n",
              "    .colab-df-convert {\n",
              "      background-color: #E8F0FE;\n",
              "      border: none;\n",
              "      border-radius: 50%;\n",
              "      cursor: pointer;\n",
              "      display: none;\n",
              "      fill: #1967D2;\n",
              "      height: 32px;\n",
              "      padding: 0 0 0 0;\n",
              "      width: 32px;\n",
              "    }\n",
              "\n",
              "    .colab-df-convert:hover {\n",
              "      background-color: #E2EBFA;\n",
              "      box-shadow: 0px 1px 2px rgba(60, 64, 67, 0.3), 0px 1px 3px 1px rgba(60, 64, 67, 0.15);\n",
              "      fill: #174EA6;\n",
              "    }\n",
              "\n",
              "    .colab-df-buttons div {\n",
              "      margin-bottom: 4px;\n",
              "    }\n",
              "\n",
              "    [theme=dark] .colab-df-convert {\n",
              "      background-color: #3B4455;\n",
              "      fill: #D2E3FC;\n",
              "    }\n",
              "\n",
              "    [theme=dark] .colab-df-convert:hover {\n",
              "      background-color: #434B5C;\n",
              "      box-shadow: 0px 1px 3px 1px rgba(0, 0, 0, 0.15);\n",
              "      filter: drop-shadow(0px 1px 2px rgba(0, 0, 0, 0.3));\n",
              "      fill: #FFFFFF;\n",
              "    }\n",
              "  </style>\n",
              "\n",
              "    <script>\n",
              "      const buttonEl =\n",
              "        document.querySelector('#df-1882fee7-119e-4f1c-8ca7-c2d02cb2a663 button.colab-df-convert');\n",
              "      buttonEl.style.display =\n",
              "        google.colab.kernel.accessAllowed ? 'block' : 'none';\n",
              "\n",
              "      async function convertToInteractive(key) {\n",
              "        const element = document.querySelector('#df-1882fee7-119e-4f1c-8ca7-c2d02cb2a663');\n",
              "        const dataTable =\n",
              "          await google.colab.kernel.invokeFunction('convertToInteractive',\n",
              "                                                    [key], {});\n",
              "        if (!dataTable) return;\n",
              "\n",
              "        const docLinkHtml = 'Like what you see? Visit the ' +\n",
              "          '<a target=\"_blank\" href=https://colab.research.google.com/notebooks/data_table.ipynb>data table notebook</a>'\n",
              "          + ' to learn more about interactive tables.';\n",
              "        element.innerHTML = '';\n",
              "        dataTable['output_type'] = 'display_data';\n",
              "        await google.colab.output.renderOutput(dataTable, element);\n",
              "        const docLink = document.createElement('div');\n",
              "        docLink.innerHTML = docLinkHtml;\n",
              "        element.appendChild(docLink);\n",
              "      }\n",
              "    </script>\n",
              "  </div>\n",
              "\n",
              "\n",
              "<div id=\"df-0aafeb0a-512a-4b26-910a-a9d725623080\">\n",
              "  <button class=\"colab-df-quickchart\" onclick=\"quickchart('df-0aafeb0a-512a-4b26-910a-a9d725623080')\"\n",
              "            title=\"Suggest charts\"\n",
              "            style=\"display:none;\">\n",
              "\n",
              "<svg xmlns=\"http://www.w3.org/2000/svg\" height=\"24px\"viewBox=\"0 0 24 24\"\n",
              "     width=\"24px\">\n",
              "    <g>\n",
              "        <path d=\"M19 3H5c-1.1 0-2 .9-2 2v14c0 1.1.9 2 2 2h14c1.1 0 2-.9 2-2V5c0-1.1-.9-2-2-2zM9 17H7v-7h2v7zm4 0h-2V7h2v10zm4 0h-2v-4h2v4z\"/>\n",
              "    </g>\n",
              "</svg>\n",
              "  </button>\n",
              "\n",
              "<style>\n",
              "  .colab-df-quickchart {\n",
              "      --bg-color: #E8F0FE;\n",
              "      --fill-color: #1967D2;\n",
              "      --hover-bg-color: #E2EBFA;\n",
              "      --hover-fill-color: #174EA6;\n",
              "      --disabled-fill-color: #AAA;\n",
              "      --disabled-bg-color: #DDD;\n",
              "  }\n",
              "\n",
              "  [theme=dark] .colab-df-quickchart {\n",
              "      --bg-color: #3B4455;\n",
              "      --fill-color: #D2E3FC;\n",
              "      --hover-bg-color: #434B5C;\n",
              "      --hover-fill-color: #FFFFFF;\n",
              "      --disabled-bg-color: #3B4455;\n",
              "      --disabled-fill-color: #666;\n",
              "  }\n",
              "\n",
              "  .colab-df-quickchart {\n",
              "    background-color: var(--bg-color);\n",
              "    border: none;\n",
              "    border-radius: 50%;\n",
              "    cursor: pointer;\n",
              "    display: none;\n",
              "    fill: var(--fill-color);\n",
              "    height: 32px;\n",
              "    padding: 0;\n",
              "    width: 32px;\n",
              "  }\n",
              "\n",
              "  .colab-df-quickchart:hover {\n",
              "    background-color: var(--hover-bg-color);\n",
              "    box-shadow: 0 1px 2px rgba(60, 64, 67, 0.3), 0 1px 3px 1px rgba(60, 64, 67, 0.15);\n",
              "    fill: var(--button-hover-fill-color);\n",
              "  }\n",
              "\n",
              "  .colab-df-quickchart-complete:disabled,\n",
              "  .colab-df-quickchart-complete:disabled:hover {\n",
              "    background-color: var(--disabled-bg-color);\n",
              "    fill: var(--disabled-fill-color);\n",
              "    box-shadow: none;\n",
              "  }\n",
              "\n",
              "  .colab-df-spinner {\n",
              "    border: 2px solid var(--fill-color);\n",
              "    border-color: transparent;\n",
              "    border-bottom-color: var(--fill-color);\n",
              "    animation:\n",
              "      spin 1s steps(1) infinite;\n",
              "  }\n",
              "\n",
              "  @keyframes spin {\n",
              "    0% {\n",
              "      border-color: transparent;\n",
              "      border-bottom-color: var(--fill-color);\n",
              "      border-left-color: var(--fill-color);\n",
              "    }\n",
              "    20% {\n",
              "      border-color: transparent;\n",
              "      border-left-color: var(--fill-color);\n",
              "      border-top-color: var(--fill-color);\n",
              "    }\n",
              "    30% {\n",
              "      border-color: transparent;\n",
              "      border-left-color: var(--fill-color);\n",
              "      border-top-color: var(--fill-color);\n",
              "      border-right-color: var(--fill-color);\n",
              "    }\n",
              "    40% {\n",
              "      border-color: transparent;\n",
              "      border-right-color: var(--fill-color);\n",
              "      border-top-color: var(--fill-color);\n",
              "    }\n",
              "    60% {\n",
              "      border-color: transparent;\n",
              "      border-right-color: var(--fill-color);\n",
              "    }\n",
              "    80% {\n",
              "      border-color: transparent;\n",
              "      border-right-color: var(--fill-color);\n",
              "      border-bottom-color: var(--fill-color);\n",
              "    }\n",
              "    90% {\n",
              "      border-color: transparent;\n",
              "      border-bottom-color: var(--fill-color);\n",
              "    }\n",
              "  }\n",
              "</style>\n",
              "\n",
              "  <script>\n",
              "    async function quickchart(key) {\n",
              "      const quickchartButtonEl =\n",
              "        document.querySelector('#' + key + ' button');\n",
              "      quickchartButtonEl.disabled = true;  // To prevent multiple clicks.\n",
              "      quickchartButtonEl.classList.add('colab-df-spinner');\n",
              "      try {\n",
              "        const charts = await google.colab.kernel.invokeFunction(\n",
              "            'suggestCharts', [key], {});\n",
              "      } catch (error) {\n",
              "        console.error('Error during call to suggestCharts:', error);\n",
              "      }\n",
              "      quickchartButtonEl.classList.remove('colab-df-spinner');\n",
              "      quickchartButtonEl.classList.add('colab-df-quickchart-complete');\n",
              "    }\n",
              "    (() => {\n",
              "      let quickchartButtonEl =\n",
              "        document.querySelector('#df-0aafeb0a-512a-4b26-910a-a9d725623080 button');\n",
              "      quickchartButtonEl.style.display =\n",
              "        google.colab.kernel.accessAllowed ? 'block' : 'none';\n",
              "    })();\n",
              "  </script>\n",
              "</div>\n",
              "\n",
              "    </div>\n",
              "  </div>\n"
            ],
            "application/vnd.google.colaboratory.intrinsic+json": {
              "type": "dataframe",
              "variable_name": "fitbit_df",
              "summary": "{\n  \"name\": \"fitbit_df\",\n  \"rows\": 940,\n  \"fields\": [\n    {\n      \"column\": \"Id\",\n      \"properties\": {\n        \"dtype\": \"number\",\n        \"std\": 2424805475,\n        \"min\": 1503960366,\n        \"max\": 8877689391,\n        \"num_unique_values\": 33,\n        \"samples\": [\n          8792009665,\n          4388161847,\n          7086361926\n        ],\n        \"semantic_type\": \"\",\n        \"description\": \"\"\n      }\n    },\n    {\n      \"column\": \"ActivityDate\",\n      \"properties\": {\n        \"dtype\": \"object\",\n        \"num_unique_values\": 31,\n        \"samples\": [\n          \"5/9/2016\",\n          \"4/27/2016\",\n          \"5/5/2016\"\n        ],\n        \"semantic_type\": \"\",\n        \"description\": \"\"\n      }\n    },\n    {\n      \"column\": \"TotalSteps\",\n      \"properties\": {\n        \"dtype\": \"number\",\n        \"std\": 5087,\n        \"min\": 0,\n        \"max\": 36019,\n        \"num_unique_values\": 842,\n        \"samples\": [\n          3727,\n          7379,\n          10762\n        ],\n        \"semantic_type\": \"\",\n        \"description\": \"\"\n      }\n    },\n    {\n      \"column\": \"TotalDistance\",\n      \"properties\": {\n        \"dtype\": \"number\",\n        \"std\": 3.924605908624871,\n        \"min\": 0.0,\n        \"max\": 28.0300006866455,\n        \"num_unique_values\": 615,\n        \"samples\": [\n          7.80000019073486,\n          3.5699999332428,\n          8.25\n        ],\n        \"semantic_type\": \"\",\n        \"description\": \"\"\n      }\n    },\n    {\n      \"column\": \"TrackerDistance\",\n      \"properties\": {\n        \"dtype\": \"number\",\n        \"std\": 3.907275943200944,\n        \"min\": 0.0,\n        \"max\": 28.0300006866455,\n        \"num_unique_values\": 613,\n        \"samples\": [\n          6.05000019073486,\n          2.6800000667572,\n          7.40000009536743\n        ],\n        \"semantic_type\": \"\",\n        \"description\": \"\"\n      }\n    },\n    {\n      \"column\": \"LoggedActivitiesDistance\",\n      \"properties\": {\n        \"dtype\": \"number\",\n        \"std\": 0.6198965182108699,\n        \"min\": 0.0,\n        \"max\": 4.94214200973511,\n        \"num_unique_values\": 19,\n        \"samples\": [\n          0.0,\n          4.8697829246521,\n          4.86179208755493\n        ],\n        \"semantic_type\": \"\",\n        \"description\": \"\"\n      }\n    },\n    {\n      \"column\": \"VeryActiveDistance\",\n      \"properties\": {\n        \"dtype\": \"number\",\n        \"std\": 2.658941164834612,\n        \"min\": 0.0,\n        \"max\": 21.9200000762939,\n        \"num_unique_values\": 333,\n        \"samples\": [\n          3.34999990463257,\n          0.28999999165535,\n          0.479999989271164\n        ],\n        \"semantic_type\": \"\",\n        \"description\": \"\"\n      }\n    },\n    {\n      \"column\": \"ModeratelyActiveDistance\",\n      \"properties\": {\n        \"dtype\": \"number\",\n        \"std\": 0.8835803191404255,\n        \"min\": 0.0,\n        \"max\": 6.48000001907349,\n        \"num_unique_values\": 211,\n        \"samples\": [\n          1.87000000476837,\n          1.16999995708466,\n          0.889999985694885\n        ],\n        \"semantic_type\": \"\",\n        \"description\": \"\"\n      }\n    },\n    {\n      \"column\": \"LightActiveDistance\",\n      \"properties\": {\n        \"dtype\": \"number\",\n        \"std\": 2.040655388206031,\n        \"min\": 0.0,\n        \"max\": 10.710000038147,\n        \"num_unique_values\": 491,\n        \"samples\": [\n          1.75,\n          0.949999988079071,\n          5.48000001907349\n        ],\n        \"semantic_type\": \"\",\n        \"description\": \"\"\n      }\n    },\n    {\n      \"column\": \"SedentaryActiveDistance\",\n      \"properties\": {\n        \"dtype\": \"number\",\n        \"std\": 0.007346176286859438,\n        \"min\": 0.0,\n        \"max\": 0.109999999403954,\n        \"num_unique_values\": 9,\n        \"samples\": [\n          0.109999999403954,\n          0.0099999997764825,\n          0.0700000002980232\n        ],\n        \"semantic_type\": \"\",\n        \"description\": \"\"\n      }\n    },\n    {\n      \"column\": \"VeryActiveMinutes\",\n      \"properties\": {\n        \"dtype\": \"number\",\n        \"std\": 32,\n        \"min\": 0,\n        \"max\": 210,\n        \"num_unique_values\": 122,\n        \"samples\": [\n          52,\n          104,\n          13\n        ],\n        \"semantic_type\": \"\",\n        \"description\": \"\"\n      }\n    },\n    {\n      \"column\": \"FairlyActiveMinutes\",\n      \"properties\": {\n        \"dtype\": \"number\",\n        \"std\": 19,\n        \"min\": 0,\n        \"max\": 143,\n        \"num_unique_values\": 81,\n        \"samples\": [\n          42,\n          13,\n          0\n        ],\n        \"semantic_type\": \"\",\n        \"description\": \"\"\n      }\n    },\n    {\n      \"column\": \"LightlyActiveMinutes\",\n      \"properties\": {\n        \"dtype\": \"number\",\n        \"std\": 109,\n        \"min\": 0,\n        \"max\": 518,\n        \"num_unique_values\": 335,\n        \"samples\": [\n          214,\n          331,\n          295\n        ],\n        \"semantic_type\": \"\",\n        \"description\": \"\"\n      }\n    },\n    {\n      \"column\": \"SedentaryMinutes\",\n      \"properties\": {\n        \"dtype\": \"number\",\n        \"std\": 301,\n        \"min\": 0,\n        \"max\": 1440,\n        \"num_unique_values\": 549,\n        \"samples\": [\n          720,\n          1115,\n          1187\n        ],\n        \"semantic_type\": \"\",\n        \"description\": \"\"\n      }\n    },\n    {\n      \"column\": \"Calories\",\n      \"properties\": {\n        \"dtype\": \"number\",\n        \"std\": 718,\n        \"min\": 0,\n        \"max\": 4900,\n        \"num_unique_values\": 734,\n        \"samples\": [\n          2937,\n          1344,\n          1545\n        ],\n        \"semantic_type\": \"\",\n        \"description\": \"\"\n      }\n    }\n  ]\n}"
            }
          },
          "metadata": {},
          "execution_count": 2
        }
      ]
    },
    {
      "cell_type": "code",
      "source": [
        "# The number of features in the above dataframe are quite alot. For our training purpose, we will reduce the number of features to 6. However, it is not advisable to reduce features for application that will be used in production. The model will learn better with more features thus enhance the accuracy further.\n",
        "\n",
        "features = [ 'TotalSteps', 'TotalDistance','VeryActiveDistance', 'ModeratelyActiveDistance','VeryActiveMinutes', 'FairlyActiveMinutes','Calories']\n",
        "fitbit_df = fitbit_df[features]\n",
        "\n",
        "# All the feature value must be numerical. Network doesn't process non-numerical data.\n",
        "fitbit_df.head()"
      ],
      "metadata": {
        "colab": {
          "base_uri": "https://localhost:8080/",
          "height": 226
        },
        "id": "E4a7vq6gYljr",
        "outputId": "94411d27-058f-4238-9fdf-2555a6963f58"
      },
      "execution_count": 3,
      "outputs": [
        {
          "output_type": "execute_result",
          "data": {
            "text/plain": [
              "   TotalSteps  TotalDistance  VeryActiveDistance  ModeratelyActiveDistance  \\\n",
              "0       13162           8.50                1.88                      0.55   \n",
              "1       10735           6.97                1.57                      0.69   \n",
              "2       10460           6.74                2.44                      0.40   \n",
              "3        9762           6.28                2.14                      1.26   \n",
              "4       12669           8.16                2.71                      0.41   \n",
              "\n",
              "   VeryActiveMinutes  FairlyActiveMinutes  Calories  \n",
              "0                 25                   13      1985  \n",
              "1                 21                   19      1797  \n",
              "2                 30                   11      1776  \n",
              "3                 29                   34      1745  \n",
              "4                 36                   10      1863  "
            ],
            "text/html": [
              "\n",
              "  <div id=\"df-16937e4a-362f-41a6-af95-5b1f9395583e\" class=\"colab-df-container\">\n",
              "    <div>\n",
              "<style scoped>\n",
              "    .dataframe tbody tr th:only-of-type {\n",
              "        vertical-align: middle;\n",
              "    }\n",
              "\n",
              "    .dataframe tbody tr th {\n",
              "        vertical-align: top;\n",
              "    }\n",
              "\n",
              "    .dataframe thead th {\n",
              "        text-align: right;\n",
              "    }\n",
              "</style>\n",
              "<table border=\"1\" class=\"dataframe\">\n",
              "  <thead>\n",
              "    <tr style=\"text-align: right;\">\n",
              "      <th></th>\n",
              "      <th>TotalSteps</th>\n",
              "      <th>TotalDistance</th>\n",
              "      <th>VeryActiveDistance</th>\n",
              "      <th>ModeratelyActiveDistance</th>\n",
              "      <th>VeryActiveMinutes</th>\n",
              "      <th>FairlyActiveMinutes</th>\n",
              "      <th>Calories</th>\n",
              "    </tr>\n",
              "  </thead>\n",
              "  <tbody>\n",
              "    <tr>\n",
              "      <th>0</th>\n",
              "      <td>13162</td>\n",
              "      <td>8.50</td>\n",
              "      <td>1.88</td>\n",
              "      <td>0.55</td>\n",
              "      <td>25</td>\n",
              "      <td>13</td>\n",
              "      <td>1985</td>\n",
              "    </tr>\n",
              "    <tr>\n",
              "      <th>1</th>\n",
              "      <td>10735</td>\n",
              "      <td>6.97</td>\n",
              "      <td>1.57</td>\n",
              "      <td>0.69</td>\n",
              "      <td>21</td>\n",
              "      <td>19</td>\n",
              "      <td>1797</td>\n",
              "    </tr>\n",
              "    <tr>\n",
              "      <th>2</th>\n",
              "      <td>10460</td>\n",
              "      <td>6.74</td>\n",
              "      <td>2.44</td>\n",
              "      <td>0.40</td>\n",
              "      <td>30</td>\n",
              "      <td>11</td>\n",
              "      <td>1776</td>\n",
              "    </tr>\n",
              "    <tr>\n",
              "      <th>3</th>\n",
              "      <td>9762</td>\n",
              "      <td>6.28</td>\n",
              "      <td>2.14</td>\n",
              "      <td>1.26</td>\n",
              "      <td>29</td>\n",
              "      <td>34</td>\n",
              "      <td>1745</td>\n",
              "    </tr>\n",
              "    <tr>\n",
              "      <th>4</th>\n",
              "      <td>12669</td>\n",
              "      <td>8.16</td>\n",
              "      <td>2.71</td>\n",
              "      <td>0.41</td>\n",
              "      <td>36</td>\n",
              "      <td>10</td>\n",
              "      <td>1863</td>\n",
              "    </tr>\n",
              "  </tbody>\n",
              "</table>\n",
              "</div>\n",
              "    <div class=\"colab-df-buttons\">\n",
              "\n",
              "  <div class=\"colab-df-container\">\n",
              "    <button class=\"colab-df-convert\" onclick=\"convertToInteractive('df-16937e4a-362f-41a6-af95-5b1f9395583e')\"\n",
              "            title=\"Convert this dataframe to an interactive table.\"\n",
              "            style=\"display:none;\">\n",
              "\n",
              "  <svg xmlns=\"http://www.w3.org/2000/svg\" height=\"24px\" viewBox=\"0 -960 960 960\">\n",
              "    <path d=\"M120-120v-720h720v720H120Zm60-500h600v-160H180v160Zm220 220h160v-160H400v160Zm0 220h160v-160H400v160ZM180-400h160v-160H180v160Zm440 0h160v-160H620v160ZM180-180h160v-160H180v160Zm440 0h160v-160H620v160Z\"/>\n",
              "  </svg>\n",
              "    </button>\n",
              "\n",
              "  <style>\n",
              "    .colab-df-container {\n",
              "      display:flex;\n",
              "      gap: 12px;\n",
              "    }\n",
              "\n",
              "    .colab-df-convert {\n",
              "      background-color: #E8F0FE;\n",
              "      border: none;\n",
              "      border-radius: 50%;\n",
              "      cursor: pointer;\n",
              "      display: none;\n",
              "      fill: #1967D2;\n",
              "      height: 32px;\n",
              "      padding: 0 0 0 0;\n",
              "      width: 32px;\n",
              "    }\n",
              "\n",
              "    .colab-df-convert:hover {\n",
              "      background-color: #E2EBFA;\n",
              "      box-shadow: 0px 1px 2px rgba(60, 64, 67, 0.3), 0px 1px 3px 1px rgba(60, 64, 67, 0.15);\n",
              "      fill: #174EA6;\n",
              "    }\n",
              "\n",
              "    .colab-df-buttons div {\n",
              "      margin-bottom: 4px;\n",
              "    }\n",
              "\n",
              "    [theme=dark] .colab-df-convert {\n",
              "      background-color: #3B4455;\n",
              "      fill: #D2E3FC;\n",
              "    }\n",
              "\n",
              "    [theme=dark] .colab-df-convert:hover {\n",
              "      background-color: #434B5C;\n",
              "      box-shadow: 0px 1px 3px 1px rgba(0, 0, 0, 0.15);\n",
              "      filter: drop-shadow(0px 1px 2px rgba(0, 0, 0, 0.3));\n",
              "      fill: #FFFFFF;\n",
              "    }\n",
              "  </style>\n",
              "\n",
              "    <script>\n",
              "      const buttonEl =\n",
              "        document.querySelector('#df-16937e4a-362f-41a6-af95-5b1f9395583e button.colab-df-convert');\n",
              "      buttonEl.style.display =\n",
              "        google.colab.kernel.accessAllowed ? 'block' : 'none';\n",
              "\n",
              "      async function convertToInteractive(key) {\n",
              "        const element = document.querySelector('#df-16937e4a-362f-41a6-af95-5b1f9395583e');\n",
              "        const dataTable =\n",
              "          await google.colab.kernel.invokeFunction('convertToInteractive',\n",
              "                                                    [key], {});\n",
              "        if (!dataTable) return;\n",
              "\n",
              "        const docLinkHtml = 'Like what you see? Visit the ' +\n",
              "          '<a target=\"_blank\" href=https://colab.research.google.com/notebooks/data_table.ipynb>data table notebook</a>'\n",
              "          + ' to learn more about interactive tables.';\n",
              "        element.innerHTML = '';\n",
              "        dataTable['output_type'] = 'display_data';\n",
              "        await google.colab.output.renderOutput(dataTable, element);\n",
              "        const docLink = document.createElement('div');\n",
              "        docLink.innerHTML = docLinkHtml;\n",
              "        element.appendChild(docLink);\n",
              "      }\n",
              "    </script>\n",
              "  </div>\n",
              "\n",
              "\n",
              "<div id=\"df-3636996a-583b-4f50-a3fe-e6b7e9f3f188\">\n",
              "  <button class=\"colab-df-quickchart\" onclick=\"quickchart('df-3636996a-583b-4f50-a3fe-e6b7e9f3f188')\"\n",
              "            title=\"Suggest charts\"\n",
              "            style=\"display:none;\">\n",
              "\n",
              "<svg xmlns=\"http://www.w3.org/2000/svg\" height=\"24px\"viewBox=\"0 0 24 24\"\n",
              "     width=\"24px\">\n",
              "    <g>\n",
              "        <path d=\"M19 3H5c-1.1 0-2 .9-2 2v14c0 1.1.9 2 2 2h14c1.1 0 2-.9 2-2V5c0-1.1-.9-2-2-2zM9 17H7v-7h2v7zm4 0h-2V7h2v10zm4 0h-2v-4h2v4z\"/>\n",
              "    </g>\n",
              "</svg>\n",
              "  </button>\n",
              "\n",
              "<style>\n",
              "  .colab-df-quickchart {\n",
              "      --bg-color: #E8F0FE;\n",
              "      --fill-color: #1967D2;\n",
              "      --hover-bg-color: #E2EBFA;\n",
              "      --hover-fill-color: #174EA6;\n",
              "      --disabled-fill-color: #AAA;\n",
              "      --disabled-bg-color: #DDD;\n",
              "  }\n",
              "\n",
              "  [theme=dark] .colab-df-quickchart {\n",
              "      --bg-color: #3B4455;\n",
              "      --fill-color: #D2E3FC;\n",
              "      --hover-bg-color: #434B5C;\n",
              "      --hover-fill-color: #FFFFFF;\n",
              "      --disabled-bg-color: #3B4455;\n",
              "      --disabled-fill-color: #666;\n",
              "  }\n",
              "\n",
              "  .colab-df-quickchart {\n",
              "    background-color: var(--bg-color);\n",
              "    border: none;\n",
              "    border-radius: 50%;\n",
              "    cursor: pointer;\n",
              "    display: none;\n",
              "    fill: var(--fill-color);\n",
              "    height: 32px;\n",
              "    padding: 0;\n",
              "    width: 32px;\n",
              "  }\n",
              "\n",
              "  .colab-df-quickchart:hover {\n",
              "    background-color: var(--hover-bg-color);\n",
              "    box-shadow: 0 1px 2px rgba(60, 64, 67, 0.3), 0 1px 3px 1px rgba(60, 64, 67, 0.15);\n",
              "    fill: var(--button-hover-fill-color);\n",
              "  }\n",
              "\n",
              "  .colab-df-quickchart-complete:disabled,\n",
              "  .colab-df-quickchart-complete:disabled:hover {\n",
              "    background-color: var(--disabled-bg-color);\n",
              "    fill: var(--disabled-fill-color);\n",
              "    box-shadow: none;\n",
              "  }\n",
              "\n",
              "  .colab-df-spinner {\n",
              "    border: 2px solid var(--fill-color);\n",
              "    border-color: transparent;\n",
              "    border-bottom-color: var(--fill-color);\n",
              "    animation:\n",
              "      spin 1s steps(1) infinite;\n",
              "  }\n",
              "\n",
              "  @keyframes spin {\n",
              "    0% {\n",
              "      border-color: transparent;\n",
              "      border-bottom-color: var(--fill-color);\n",
              "      border-left-color: var(--fill-color);\n",
              "    }\n",
              "    20% {\n",
              "      border-color: transparent;\n",
              "      border-left-color: var(--fill-color);\n",
              "      border-top-color: var(--fill-color);\n",
              "    }\n",
              "    30% {\n",
              "      border-color: transparent;\n",
              "      border-left-color: var(--fill-color);\n",
              "      border-top-color: var(--fill-color);\n",
              "      border-right-color: var(--fill-color);\n",
              "    }\n",
              "    40% {\n",
              "      border-color: transparent;\n",
              "      border-right-color: var(--fill-color);\n",
              "      border-top-color: var(--fill-color);\n",
              "    }\n",
              "    60% {\n",
              "      border-color: transparent;\n",
              "      border-right-color: var(--fill-color);\n",
              "    }\n",
              "    80% {\n",
              "      border-color: transparent;\n",
              "      border-right-color: var(--fill-color);\n",
              "      border-bottom-color: var(--fill-color);\n",
              "    }\n",
              "    90% {\n",
              "      border-color: transparent;\n",
              "      border-bottom-color: var(--fill-color);\n",
              "    }\n",
              "  }\n",
              "</style>\n",
              "\n",
              "  <script>\n",
              "    async function quickchart(key) {\n",
              "      const quickchartButtonEl =\n",
              "        document.querySelector('#' + key + ' button');\n",
              "      quickchartButtonEl.disabled = true;  // To prevent multiple clicks.\n",
              "      quickchartButtonEl.classList.add('colab-df-spinner');\n",
              "      try {\n",
              "        const charts = await google.colab.kernel.invokeFunction(\n",
              "            'suggestCharts', [key], {});\n",
              "      } catch (error) {\n",
              "        console.error('Error during call to suggestCharts:', error);\n",
              "      }\n",
              "      quickchartButtonEl.classList.remove('colab-df-spinner');\n",
              "      quickchartButtonEl.classList.add('colab-df-quickchart-complete');\n",
              "    }\n",
              "    (() => {\n",
              "      let quickchartButtonEl =\n",
              "        document.querySelector('#df-3636996a-583b-4f50-a3fe-e6b7e9f3f188 button');\n",
              "      quickchartButtonEl.style.display =\n",
              "        google.colab.kernel.accessAllowed ? 'block' : 'none';\n",
              "    })();\n",
              "  </script>\n",
              "</div>\n",
              "\n",
              "    </div>\n",
              "  </div>\n"
            ],
            "application/vnd.google.colaboratory.intrinsic+json": {
              "type": "dataframe",
              "variable_name": "fitbit_df",
              "summary": "{\n  \"name\": \"fitbit_df\",\n  \"rows\": 940,\n  \"fields\": [\n    {\n      \"column\": \"TotalSteps\",\n      \"properties\": {\n        \"dtype\": \"number\",\n        \"std\": 5087,\n        \"min\": 0,\n        \"max\": 36019,\n        \"num_unique_values\": 842,\n        \"samples\": [\n          3727,\n          7379,\n          10762\n        ],\n        \"semantic_type\": \"\",\n        \"description\": \"\"\n      }\n    },\n    {\n      \"column\": \"TotalDistance\",\n      \"properties\": {\n        \"dtype\": \"number\",\n        \"std\": 3.924605908624871,\n        \"min\": 0.0,\n        \"max\": 28.0300006866455,\n        \"num_unique_values\": 615,\n        \"samples\": [\n          7.80000019073486,\n          3.5699999332428,\n          8.25\n        ],\n        \"semantic_type\": \"\",\n        \"description\": \"\"\n      }\n    },\n    {\n      \"column\": \"VeryActiveDistance\",\n      \"properties\": {\n        \"dtype\": \"number\",\n        \"std\": 2.658941164834612,\n        \"min\": 0.0,\n        \"max\": 21.9200000762939,\n        \"num_unique_values\": 333,\n        \"samples\": [\n          3.34999990463257,\n          0.28999999165535,\n          0.479999989271164\n        ],\n        \"semantic_type\": \"\",\n        \"description\": \"\"\n      }\n    },\n    {\n      \"column\": \"ModeratelyActiveDistance\",\n      \"properties\": {\n        \"dtype\": \"number\",\n        \"std\": 0.8835803191404255,\n        \"min\": 0.0,\n        \"max\": 6.48000001907349,\n        \"num_unique_values\": 211,\n        \"samples\": [\n          1.87000000476837,\n          1.16999995708466,\n          0.889999985694885\n        ],\n        \"semantic_type\": \"\",\n        \"description\": \"\"\n      }\n    },\n    {\n      \"column\": \"VeryActiveMinutes\",\n      \"properties\": {\n        \"dtype\": \"number\",\n        \"std\": 32,\n        \"min\": 0,\n        \"max\": 210,\n        \"num_unique_values\": 122,\n        \"samples\": [\n          52,\n          104,\n          13\n        ],\n        \"semantic_type\": \"\",\n        \"description\": \"\"\n      }\n    },\n    {\n      \"column\": \"FairlyActiveMinutes\",\n      \"properties\": {\n        \"dtype\": \"number\",\n        \"std\": 19,\n        \"min\": 0,\n        \"max\": 143,\n        \"num_unique_values\": 81,\n        \"samples\": [\n          42,\n          13,\n          0\n        ],\n        \"semantic_type\": \"\",\n        \"description\": \"\"\n      }\n    },\n    {\n      \"column\": \"Calories\",\n      \"properties\": {\n        \"dtype\": \"number\",\n        \"std\": 718,\n        \"min\": 0,\n        \"max\": 4900,\n        \"num_unique_values\": 734,\n        \"samples\": [\n          2937,\n          1344,\n          1545\n        ],\n        \"semantic_type\": \"\",\n        \"description\": \"\"\n      }\n    }\n  ]\n}"
            }
          },
          "metadata": {},
          "execution_count": 3
        }
      ]
    },
    {
      "cell_type": "markdown",
      "source": [
        "Note: Since the data is from kaggle and is already pre-processed. I don't need to perform any pre-processing steps here. However, if you want to use this model to train on other raw data, you must perform some pre-processing operation to the data before further processing it for training. Data quality is very important for any model to give quality result. They say \"Garbage in, Garbage out\""
      ],
      "metadata": {
        "id": "bB_COhFQYLvb"
      }
    },
    {
      "cell_type": "code",
      "source": [
        "# Next, we'll split dataframe fields into input [X] and the output column \"Calories\" into variable [y] along with its value. Also, convert both variables to PyTorch tensor. Converting all data into PyTorch tensor will avoid potential datatype mismatch issue further.\n",
        "\n",
        "X = torch.tensor(fitbit_df.drop(columns=[\"Calories\"], axis=1).to_numpy(), dtype=torch.float)\n",
        "y = torch.tensor(fitbit_df[\"Calories\"].to_numpy(), dtype=torch.long)"
      ],
      "metadata": {
        "id": "r9q_WLB4F-p7"
      },
      "execution_count": 4,
      "outputs": []
    },
    {
      "cell_type": "code",
      "source": [
        "# Verify X, y value\n",
        "print(\"Input tensors: \", X[:5], \"\\n\")\n",
        "print(\"Output tensors: \", y[:5], \"\\n\\n\")\n",
        "\n",
        "print(\"Shape of input tensor: \", X.shape)\n",
        "print(\"Shape of ouput tensor: \", y.shape)"
      ],
      "metadata": {
        "colab": {
          "base_uri": "https://localhost:8080/"
        },
        "id": "BM5CQlOGzKRk",
        "outputId": "5a3c7133-bf7c-40f4-d424-0e423b734c60"
      },
      "execution_count": 5,
      "outputs": [
        {
          "output_type": "stream",
          "name": "stdout",
          "text": [
            "Input tensors:  tensor([[1.3162e+04, 8.5000e+00, 1.8800e+00, 5.5000e-01, 2.5000e+01, 1.3000e+01],\n",
            "        [1.0735e+04, 6.9700e+00, 1.5700e+00, 6.9000e-01, 2.1000e+01, 1.9000e+01],\n",
            "        [1.0460e+04, 6.7400e+00, 2.4400e+00, 4.0000e-01, 3.0000e+01, 1.1000e+01],\n",
            "        [9.7620e+03, 6.2800e+00, 2.1400e+00, 1.2600e+00, 2.9000e+01, 3.4000e+01],\n",
            "        [1.2669e+04, 8.1600e+00, 2.7100e+00, 4.1000e-01, 3.6000e+01, 1.0000e+01]]) \n",
            "\n",
            "Output tensors:  tensor([1985, 1797, 1776, 1745, 1863]) \n",
            "\n",
            "\n",
            "Shape of input tensor:  torch.Size([940, 6])\n",
            "Shape of ouput tensor:  torch.Size([940])\n"
          ]
        }
      ]
    },
    {
      "cell_type": "code",
      "source": [
        "# Now, in preparation for training, validation and testing the model, we'll split the dataset into train - 80%, validation - 10% and test-10%. We'll use train_test_split function from sklearn.model_selection module to perform the split.\n",
        "\n",
        "X_train, X_eval, y_train, y_eval = train_test_split(X, y, test_size=0.2, random_state=42)\n",
        "X_val, X_test, y_val, y_test = train_test_split(X_eval, y_eval, test_size=0.5, random_state=42)\n",
        "\n",
        "# Shape of dataset before split\n",
        "print(\"Shape of input tensor: \", X.shape)\n",
        "print(\"Shape of ouput tensor: \", y.shape, \"\\n\")\n",
        "\n",
        "# Shape of train, val, and test dataset after split. The sum total is same as original dataset.\n",
        "# And each dataset still has 6 features which is the expected result\n",
        "print(\"Train input: \", X_train.shape, \"Train output: \", y_train.shape)\n",
        "print(\"Val input: \", X_val.shape, \"Val output: \", y_val.shape)\n",
        "print(\"Test input: \", X_test.shape, \"Test output: \", y_test.shape)\n",
        "\n"
      ],
      "metadata": {
        "colab": {
          "base_uri": "https://localhost:8080/"
        },
        "id": "SzDV8Ntk7mqs",
        "outputId": "d7bda6aa-a4da-497f-ef79-fa54ea78aba0"
      },
      "execution_count": 6,
      "outputs": [
        {
          "output_type": "stream",
          "name": "stdout",
          "text": [
            "Shape of input tensor:  torch.Size([940, 6])\n",
            "Shape of ouput tensor:  torch.Size([940]) \n",
            "\n",
            "Train input:  torch.Size([752, 6]) Train output:  torch.Size([752])\n",
            "Val input:  torch.Size([94, 6]) Val output:  torch.Size([94])\n",
            "Test input:  torch.Size([94, 6]) Test output:  torch.Size([94])\n"
          ]
        }
      ]
    },
    {
      "cell_type": "markdown",
      "source": [
        "Features normalization: If you noticed the feature TotalSteps has value in the range of 4 digit and feature such as TotalDistance, VeryActiveDistance has value in the range of 1 digit. This huge difference in range will impact the training process not being smooth and might even brings divergence if not taken into consideration. Hence, we solve this by performing data normalization."
      ],
      "metadata": {
        "id": "8BC9fEhiA1Og"
      }
    },
    {
      "cell_type": "code",
      "source": [
        "# Calculate mean\n",
        "mean_train = X_train.mean(dim=0)\n",
        "mean_val = X_val.mean(dim=0)\n",
        "mean_test = X_test.mean(dim=0)\n",
        "\n",
        "# Calculate standard deviation\n",
        "std_train = X_train.std(dim=0)\n",
        "std_val = X_val.std(dim=0)\n",
        "std_test = X_test.std(dim=0)\n",
        "\n",
        "# apply mean and std to the input dataset\n",
        "X_train = (X_train - mean_train)/ std_train\n",
        "X_val = (X_val - mean_val)/ std_val\n",
        "X_test = (X_test - mean_test)/ std_test"
      ],
      "metadata": {
        "id": "NdoxHyi19OkZ"
      },
      "execution_count": 7,
      "outputs": []
    },
    {
      "cell_type": "code",
      "source": [
        "print(\"Normalized X_train: \", X_train[:5], \"\\n\")\n",
        "print(\"Normalized X_val: \",X_val[:5], \"\\n\")\n",
        "print(\"Normalized X_train: \",X_test[:5], \"\\n\")"
      ],
      "metadata": {
        "colab": {
          "base_uri": "https://localhost:8080/"
        },
        "id": "xJCt7abSBO3k",
        "outputId": "754329a3-c2dc-4b3c-a529-3df559b6b86c"
      },
      "execution_count": 8,
      "outputs": [
        {
          "output_type": "stream",
          "name": "stdout",
          "text": [
            "Normalized X_train:  tensor([[-0.7593, -0.6997, -0.5467, -0.3020, -0.6219, -0.3347],\n",
            "        [ 2.0021,  2.6591,  3.1946, -0.3020,  1.3290, -0.2848],\n",
            "        [-1.4722, -1.3729, -0.5720, -0.6559, -0.6519, -0.6840],\n",
            "        [ 0.3837,  0.4537, -0.0732, -0.4618, -0.1117, -0.4345],\n",
            "        [ 0.0981,  0.2161, -0.3226,  1.6382, -0.3818,  1.4617]]) \n",
            "\n",
            "Normalized X_val:  tensor([[ 0.1610,  0.0433, -0.4913, -0.2763, -0.5920, -0.1751],\n",
            "        [ 0.8919,  0.8510,  1.2233,  0.8606,  0.7055,  0.9937],\n",
            "        [ 0.4630,  0.5132,  0.6823,  0.2816,  3.1563,  1.2372],\n",
            "        [ 0.8296,  0.6422,  1.4158,  0.3027,  1.9309,  1.0424],\n",
            "        [-1.0902, -0.9855, -0.4913, -0.5078, -0.5920, -0.5647]]) \n",
            "\n",
            "Normalized X_train:  tensor([[ 0.2477,  0.1251, -0.5565,  0.3802, -0.5782,  0.3463],\n",
            "        [ 0.9586,  1.1760,  1.6955, -0.0067,  2.7202, -0.1255],\n",
            "        [ 0.1309, -0.0063,  0.1472,  0.4598,  0.0458,  0.0842],\n",
            "        [ 1.0478,  0.8070,  0.5695, -0.4049,  0.4916, -0.3351],\n",
            "        [-0.4628, -0.4004, -0.6081, -0.6779, -0.6376, -0.7544]]) \n",
            "\n"
          ]
        }
      ]
    },
    {
      "cell_type": "code",
      "source": [
        "#Wrapping train, validation and test tensors into Tensor Dataset\n",
        "train_dataset = TensorDataset(X_train, y_train)\n",
        "val_dataset = TensorDataset(X_val, y_val)\n",
        "test_dataset = TensorDataset(X_test, y_test)\n",
        "\n"
      ],
      "metadata": {
        "id": "azSLYt8bG_Gb"
      },
      "execution_count": 9,
      "outputs": []
    },
    {
      "cell_type": "code",
      "source": [
        "# show how train_dataset looks like\n",
        "print(train_dataset[0])"
      ],
      "metadata": {
        "colab": {
          "base_uri": "https://localhost:8080/"
        },
        "id": "nqZZaNq2D1vG",
        "outputId": "93fd95f4-e848-4f21-ab66-52ebc2dd8ccc"
      },
      "execution_count": 10,
      "outputs": [
        {
          "output_type": "stream",
          "name": "stdout",
          "text": [
            "(tensor([-0.7593, -0.6997, -0.5467, -0.3020, -0.6219, -0.3347]), tensor(2580))\n"
          ]
        }
      ]
    },
    {
      "cell_type": "code",
      "source": [
        "len(test_dataset.tensors[0])"
      ],
      "metadata": {
        "colab": {
          "base_uri": "https://localhost:8080/"
        },
        "id": "FjCOzQoWHm3y",
        "outputId": "61294d84-99aa-48b6-bf3b-c3f8201b6cb5"
      },
      "execution_count": 11,
      "outputs": [
        {
          "output_type": "execute_result",
          "data": {
            "text/plain": [
              "94"
            ]
          },
          "metadata": {},
          "execution_count": 11
        }
      ]
    },
    {
      "cell_type": "markdown",
      "source": [
        "DataLoader combines a dataset and a sampler, and provides an iterable over the given dataset. If training data is very huge, iterating over single training data will take alot of time and training all data at once will not be practically possible due to the resource constraint. DataLoader solved this problem by allowing to define the batch size which can enable model to training multiple training data at once in batches. We'll create dataloader each for train, validation and test dataset and define batch_size as 10. shuffle=True helps shuffle the occurence of data in the batch to make training and learning better."
      ],
      "metadata": {
        "id": "RUEybuJbHPrg"
      }
    },
    {
      "cell_type": "code",
      "source": [
        "# Creating dataloader for each train, val and test dataset\n",
        "train_loader = DataLoader(train_dataset, batch_size=10, shuffle=True, drop_last=True)\n",
        "val_loader = DataLoader(val_dataset, batch_size=10, shuffle=False, drop_last=True)\n",
        "test_loader = DataLoader(test_dataset, batch_size=len(test_dataset.tensors[0]), shuffle=False, drop_last=True)\n",
        "\n",
        "# showing first batch of train_loader\n",
        "for X, y in train_loader:\n",
        "  print(\"Shape of first batch of train_loader input : \", X.shape)\n",
        "  print(\"Shape of first batch of train_loader output : \", y.shape)\n",
        "  break"
      ],
      "metadata": {
        "colab": {
          "base_uri": "https://localhost:8080/"
        },
        "id": "gmdUbDWgaFI8",
        "outputId": "dd0c8db0-2dcd-48e0-9d18-fe080cababe0"
      },
      "execution_count": 12,
      "outputs": [
        {
          "output_type": "stream",
          "name": "stdout",
          "text": [
            "Shape of first batch of train_loader input :  torch.Size([10, 6])\n",
            "Shape of first batch of train_loader output :  torch.Size([10])\n"
          ]
        }
      ]
    },
    {
      "cell_type": "markdown",
      "source": [
        "### **Step 3: Define the model**\n",
        "\n",
        "We're defining a functional model from PyTorch nn.Module. There is no specific rule to dictate the number of layers and the number of nodes in each layers. Generally, it takes many rounds of trial and error to find the right fit to each use cases. One rule of thumb is that the network should be small enough for processing fast and should be large enough to solve the intended problem with high accuracy.\n",
        "Here, our  model has 3 layers, 3 activations and 1 output layer\n",
        "The model's first layer, layer1 takes  in_feature value from input data. It should be total number of features or input vectors dimension which is 6.  (It can be obtained as, input_size = X_train.shape[1])\n",
        "The first layer - layer1 has 64 nodes.\n",
        "layer1 is followed by first Activation layer - activation1. We're using ReLU as an activation function which is popular choice in terms of its performance and also avoids vanishing gradient problem. ReLU provides non-linearity to the linear output from previous layer which is important for model for better learning during training.\n",
        "The second layer - layer2 has 64 nodes.\n",
        "Another activation layer - activation2  is added after layer2\n",
        "The third layer is added after activation2, layer3 has 32 nodes.\n",
        "Another activation layer activation3 is added after layer3\n",
        "The output layer has 1 node since we're dealing with regression task here."
      ],
      "metadata": {
        "id": "boYP0MbdJcvh"
      }
    },
    {
      "cell_type": "code",
      "source": [
        "# Define the model\n",
        "\n",
        "class fitbit_model(nn.Module):\n",
        "  def __init__(self, input_features, output_class):\n",
        "    super(fitbit_model, self).__init__()\n",
        "    self.layer1 = nn.Linear(in_features=input_features, out_features=64)\n",
        "    self.activation1 = nn.ReLU()\n",
        "    self.layer2 = nn.Linear(in_features=64, out_features=64)\n",
        "    self.activation2 = nn.ReLU()\n",
        "    self.layer3 = nn.Linear(in_features=64, out_features=32)\n",
        "    self.activation3 = nn.ReLU()\n",
        "    self.output = nn.Linear(in_features=32, out_features=output_class)\n",
        "\n",
        "  def forward(self, x):\n",
        "    x = self.activation1(self.layer1(x))\n",
        "    x = self.activation2(self.layer2(x))\n",
        "    x = self.activation3(self.layer3(x))\n",
        "    return self.output(x)\n"
      ],
      "metadata": {
        "id": "sbHSM635uJSA"
      },
      "execution_count": 16,
      "outputs": []
    },
    {
      "cell_type": "markdown",
      "source": [
        "All the layers has been defined inside the constructor of fitbit_model class.\n",
        "super(fitbit_model, self).__init__(), this is a parent class nn.Module constructor, is called to bootstrap fitbit_model model\n",
        "forward function will take input tensor and returns model's output tensor.\n",
        "\n",
        "Next, initialize the model by providing input features and output class to the fitbit_model constructor. Initially, the weights and bias parameters are automatically initialized by model. These parameters value will be subsequently updated during training."
      ],
      "metadata": {
        "id": "-hMuqDma60_o"
      }
    },
    {
      "cell_type": "code",
      "source": [
        "input_features = X_train.shape[1]\n",
        "output_class = 1\n",
        "model = fitbit_model(input_features, output_class)"
      ],
      "metadata": {
        "id": "lplaUeT6vhSq"
      },
      "execution_count": 17,
      "outputs": []
    },
    {
      "cell_type": "code",
      "source": [
        "print(\"Model Schema\\n\")\n",
        "print(model)\n",
        "\n",
        "print(\"\\nModel initial weights values for layer1\")\n",
        "print(model.layer1.weight[:2])\n",
        "print(\"Weight shape on layer1: \", model.layer1.weight.shape)\n",
        "\n",
        "print(\"\\nModel initial bias values for layer1\")\n",
        "print(model.layer1.bias[:2])\n",
        "print(\"Bias shape on layer1: \", model.layer1.bias.shape)"
      ],
      "metadata": {
        "colab": {
          "base_uri": "https://localhost:8080/"
        },
        "id": "zdFpONET9q5I",
        "outputId": "eb5e56c9-6930-494d-93c1-5ffb9a4f7b45"
      },
      "execution_count": 27,
      "outputs": [
        {
          "output_type": "stream",
          "name": "stdout",
          "text": [
            "Model Schema\n",
            "\n",
            "fitbit_model(\n",
            "  (layer1): Linear(in_features=6, out_features=64, bias=True)\n",
            "  (activation1): ReLU()\n",
            "  (layer2): Linear(in_features=64, out_features=64, bias=True)\n",
            "  (activation2): ReLU()\n",
            "  (layer3): Linear(in_features=64, out_features=32, bias=True)\n",
            "  (activation3): ReLU()\n",
            "  (output): Linear(in_features=32, out_features=1, bias=True)\n",
            ")\n",
            "\n",
            "Model initial weights values for layer1\n",
            "tensor([[-0.2197,  0.0392, -0.1926,  0.2334,  0.2295,  0.3299],\n",
            "        [-0.2867, -0.0068,  0.1312,  0.1713,  0.1160, -0.2773]],\n",
            "       grad_fn=<SliceBackward0>)\n",
            "Weight shape on layer1:  torch.Size([64, 6])\n",
            "\n",
            "Model initial bias values for layer1\n",
            "tensor([-0.0813,  0.2138], grad_fn=<SliceBackward0>)\n",
            "Bias shape on layer1:  torch.Size([64])\n"
          ]
        }
      ]
    },
    {
      "cell_type": "markdown",
      "source": [
        "### **Step 4: Train and evaluate the model**"
      ],
      "metadata": {
        "id": "-HbRtzpwv9mc"
      }
    },
    {
      "cell_type": "markdown",
      "source": [
        "loss_fn = nn.HuberLoss(delta=0.5): Huber Loss is a loss function used in robust regression. It is a combination of both MSE and MAE. delta is the hyperparameter to define the range for MAE and MSE which can be iterative to make sure the correct delta value.\n",
        "\n",
        "optimizer = torch.optim.Adam(params=model.parameters(), lr=0.001): Adam is one of the most commonly used optimization algorithms that hold the current state and will update the parameters based on the computed gradients. It take [(model.parameters) - learnable parameters (W and b)] and learning rate which determine how fast or slow the model should learn in order to achieve smooth convergence. Hence, learning rate value should be carefully choosen.\n",
        "\n",
        "n_epochs = 100: The entire training, validation cycle will run for 100 times\n",
        "\n",
        "Finally, train and evaluate the model for 100 epochs."
      ],
      "metadata": {
        "id": "N032QFCd9U2E"
      }
    },
    {
      "cell_type": "code",
      "source": [
        "# Train and evaluate the model\n",
        "\n",
        "# Huber Loss is a loss function used in robust regression. It is a combination of both MSE and MAE. delta is the hyperparameter to define the range for MAE and MSE which can be iterative to make sure the correct delta value.\n",
        "loss_fn = nn.HuberLoss(delta=0.5)\n",
        "\n",
        "# Adam is one of the most commonly used optimization algorithms that hold the current state and will update the parameters based on the computed gradients. It take model parameters and learning rate which determine how fast or slow the model should learn in order to achieve smooth convergence. Hence, learning rate value should be carefully choosen.\n",
        "optimizer = torch.optim.Adam(params=model.parameters(), lr=0.001)\n",
        "\n",
        "\n",
        "# collecting metrics\n",
        "train_losses = []\n",
        "val_losses = []\n",
        "\n",
        "# Training\n",
        "n_epochs = 100\n",
        "\n",
        "for epoch in range(n_epochs):\n",
        "\n",
        "  # Train the model\n",
        "  model.train()\n",
        "  train_loss = 0.0\n",
        "  for x_batch, y_batch in train_loader:\n",
        "    # forward pass\n",
        "    y_pred = model(x_batch)\n",
        "    y_pred = torch.squeeze(y_pred)\n",
        "    y_batch = y_batch.float()\n",
        "    loss = loss_fn(y_pred, y_batch)\n",
        "\n",
        "    # backward pass\n",
        "    optimizer.zero_grad()\n",
        "    loss.backward()\n",
        "\n",
        "    # update weights\n",
        "    optimizer.step()\n",
        "    train_loss += loss.item()\n",
        "  train_losses.append(train_loss / len(train_loader))\n",
        "\n",
        "  # Evaluate the model\n",
        "  model.eval()\n",
        "  val_loss = 0.0\n",
        "  with torch.inference_mode():\n",
        "    for x_batch, y_batch in val_loader:\n",
        "      y_pred = model(x_batch)\n",
        "      y_pred = torch.squeeze(y_pred)\n",
        "      y_batch = y_batch.float()\n",
        "      loss = loss_fn(y_pred, y_batch)\n",
        "\n",
        "      val_loss += loss.item()\n",
        "    val_losses.append(val_loss/len(val_loader))\n",
        "\n",
        "  print(f'Epoch [{epoch+1}/{n_epochs}]: Train Loss: {train_losses[-1]:.2f}, Val Loss: {val_losses[-1]:.2f}')\n"
      ],
      "metadata": {
        "colab": {
          "base_uri": "https://localhost:8080/"
        },
        "id": "4SHMjfPz_Ao3",
        "outputId": "83124c47-49ba-465f-e288-3847d1d66aa0"
      },
      "execution_count": 28,
      "outputs": [
        {
          "output_type": "stream",
          "name": "stdout",
          "text": [
            "Epoch [1/100]: Train Loss: 1147.43, Val Loss: 1116.25\n",
            "Epoch [2/100]: Train Loss: 1041.71, Val Loss: 841.27\n",
            "Epoch [3/100]: Train Loss: 534.10, Val Loss: 378.15\n",
            "Epoch [4/100]: Train Loss: 367.34, Val Loss: 317.46\n",
            "Epoch [5/100]: Train Loss: 311.24, Val Loss: 271.18\n",
            "Epoch [6/100]: Train Loss: 271.05, Val Loss: 245.91\n",
            "Epoch [7/100]: Train Loss: 247.05, Val Loss: 234.65\n",
            "Epoch [8/100]: Train Loss: 234.41, Val Loss: 226.61\n",
            "Epoch [9/100]: Train Loss: 225.55, Val Loss: 217.46\n",
            "Epoch [10/100]: Train Loss: 219.92, Val Loss: 210.66\n",
            "Epoch [11/100]: Train Loss: 215.17, Val Loss: 207.16\n",
            "Epoch [12/100]: Train Loss: 212.30, Val Loss: 202.97\n",
            "Epoch [13/100]: Train Loss: 208.80, Val Loss: 202.06\n",
            "Epoch [14/100]: Train Loss: 204.90, Val Loss: 195.04\n",
            "Epoch [15/100]: Train Loss: 204.00, Val Loss: 198.28\n",
            "Epoch [16/100]: Train Loss: 200.91, Val Loss: 194.26\n",
            "Epoch [17/100]: Train Loss: 198.10, Val Loss: 196.02\n",
            "Epoch [18/100]: Train Loss: 197.96, Val Loss: 194.62\n",
            "Epoch [19/100]: Train Loss: 195.33, Val Loss: 193.56\n",
            "Epoch [20/100]: Train Loss: 193.46, Val Loss: 196.04\n",
            "Epoch [21/100]: Train Loss: 193.13, Val Loss: 187.67\n",
            "Epoch [22/100]: Train Loss: 191.67, Val Loss: 187.29\n",
            "Epoch [23/100]: Train Loss: 191.00, Val Loss: 189.32\n",
            "Epoch [24/100]: Train Loss: 187.07, Val Loss: 187.73\n",
            "Epoch [25/100]: Train Loss: 187.16, Val Loss: 183.77\n",
            "Epoch [26/100]: Train Loss: 184.43, Val Loss: 184.47\n",
            "Epoch [27/100]: Train Loss: 185.68, Val Loss: 188.45\n",
            "Epoch [28/100]: Train Loss: 182.61, Val Loss: 185.76\n",
            "Epoch [29/100]: Train Loss: 180.96, Val Loss: 182.03\n",
            "Epoch [30/100]: Train Loss: 180.23, Val Loss: 188.47\n",
            "Epoch [31/100]: Train Loss: 179.68, Val Loss: 180.06\n",
            "Epoch [32/100]: Train Loss: 177.99, Val Loss: 180.08\n",
            "Epoch [33/100]: Train Loss: 176.94, Val Loss: 178.37\n",
            "Epoch [34/100]: Train Loss: 176.01, Val Loss: 176.41\n",
            "Epoch [35/100]: Train Loss: 174.93, Val Loss: 181.58\n",
            "Epoch [36/100]: Train Loss: 174.70, Val Loss: 183.26\n",
            "Epoch [37/100]: Train Loss: 172.24, Val Loss: 178.91\n",
            "Epoch [38/100]: Train Loss: 170.39, Val Loss: 178.45\n",
            "Epoch [39/100]: Train Loss: 170.41, Val Loss: 176.51\n",
            "Epoch [40/100]: Train Loss: 168.10, Val Loss: 174.37\n",
            "Epoch [41/100]: Train Loss: 167.15, Val Loss: 175.39\n",
            "Epoch [42/100]: Train Loss: 165.67, Val Loss: 174.39\n",
            "Epoch [43/100]: Train Loss: 165.39, Val Loss: 175.30\n",
            "Epoch [44/100]: Train Loss: 163.63, Val Loss: 169.52\n",
            "Epoch [45/100]: Train Loss: 162.34, Val Loss: 168.50\n",
            "Epoch [46/100]: Train Loss: 160.94, Val Loss: 176.60\n",
            "Epoch [47/100]: Train Loss: 159.05, Val Loss: 172.63\n",
            "Epoch [48/100]: Train Loss: 157.69, Val Loss: 172.76\n",
            "Epoch [49/100]: Train Loss: 157.19, Val Loss: 168.66\n",
            "Epoch [50/100]: Train Loss: 155.36, Val Loss: 165.83\n",
            "Epoch [51/100]: Train Loss: 154.11, Val Loss: 167.90\n",
            "Epoch [52/100]: Train Loss: 151.97, Val Loss: 163.90\n",
            "Epoch [53/100]: Train Loss: 151.72, Val Loss: 165.43\n",
            "Epoch [54/100]: Train Loss: 150.85, Val Loss: 168.56\n",
            "Epoch [55/100]: Train Loss: 148.91, Val Loss: 166.10\n",
            "Epoch [56/100]: Train Loss: 147.54, Val Loss: 170.20\n",
            "Epoch [57/100]: Train Loss: 146.51, Val Loss: 165.48\n",
            "Epoch [58/100]: Train Loss: 144.32, Val Loss: 172.14\n",
            "Epoch [59/100]: Train Loss: 143.19, Val Loss: 167.11\n",
            "Epoch [60/100]: Train Loss: 143.33, Val Loss: 158.26\n",
            "Epoch [61/100]: Train Loss: 140.93, Val Loss: 160.76\n",
            "Epoch [62/100]: Train Loss: 142.08, Val Loss: 160.44\n",
            "Epoch [63/100]: Train Loss: 139.64, Val Loss: 155.85\n",
            "Epoch [64/100]: Train Loss: 139.32, Val Loss: 159.31\n",
            "Epoch [65/100]: Train Loss: 137.46, Val Loss: 159.68\n",
            "Epoch [66/100]: Train Loss: 137.70, Val Loss: 158.84\n",
            "Epoch [67/100]: Train Loss: 136.84, Val Loss: 151.53\n",
            "Epoch [68/100]: Train Loss: 135.87, Val Loss: 157.75\n",
            "Epoch [69/100]: Train Loss: 134.59, Val Loss: 157.90\n",
            "Epoch [70/100]: Train Loss: 134.28, Val Loss: 160.65\n",
            "Epoch [71/100]: Train Loss: 133.69, Val Loss: 155.62\n",
            "Epoch [72/100]: Train Loss: 133.29, Val Loss: 154.71\n",
            "Epoch [73/100]: Train Loss: 132.36, Val Loss: 157.10\n",
            "Epoch [74/100]: Train Loss: 132.18, Val Loss: 152.51\n",
            "Epoch [75/100]: Train Loss: 131.62, Val Loss: 151.15\n",
            "Epoch [76/100]: Train Loss: 130.73, Val Loss: 151.46\n",
            "Epoch [77/100]: Train Loss: 129.80, Val Loss: 155.10\n",
            "Epoch [78/100]: Train Loss: 129.37, Val Loss: 154.62\n",
            "Epoch [79/100]: Train Loss: 129.38, Val Loss: 142.97\n",
            "Epoch [80/100]: Train Loss: 128.54, Val Loss: 149.96\n",
            "Epoch [81/100]: Train Loss: 128.04, Val Loss: 149.97\n",
            "Epoch [82/100]: Train Loss: 128.03, Val Loss: 146.44\n",
            "Epoch [83/100]: Train Loss: 127.97, Val Loss: 139.43\n",
            "Epoch [84/100]: Train Loss: 129.65, Val Loss: 144.16\n",
            "Epoch [85/100]: Train Loss: 126.75, Val Loss: 143.59\n",
            "Epoch [86/100]: Train Loss: 126.24, Val Loss: 146.22\n",
            "Epoch [87/100]: Train Loss: 125.56, Val Loss: 139.93\n",
            "Epoch [88/100]: Train Loss: 125.53, Val Loss: 141.19\n",
            "Epoch [89/100]: Train Loss: 125.02, Val Loss: 141.93\n",
            "Epoch [90/100]: Train Loss: 124.99, Val Loss: 144.53\n",
            "Epoch [91/100]: Train Loss: 124.04, Val Loss: 141.63\n",
            "Epoch [92/100]: Train Loss: 124.41, Val Loss: 138.81\n",
            "Epoch [93/100]: Train Loss: 124.73, Val Loss: 144.68\n",
            "Epoch [94/100]: Train Loss: 124.53, Val Loss: 143.33\n",
            "Epoch [95/100]: Train Loss: 123.29, Val Loss: 137.76\n",
            "Epoch [96/100]: Train Loss: 124.55, Val Loss: 139.92\n",
            "Epoch [97/100]: Train Loss: 123.44, Val Loss: 139.33\n",
            "Epoch [98/100]: Train Loss: 123.80, Val Loss: 142.80\n",
            "Epoch [99/100]: Train Loss: 123.37, Val Loss: 140.91\n",
            "Epoch [100/100]: Train Loss: 122.35, Val Loss: 140.40\n"
          ]
        }
      ]
    },
    {
      "cell_type": "markdown",
      "source": [
        "### 6. **Analyse the training and evaluation result**"
      ],
      "metadata": {
        "id": "71V-Ec4RT9hS"
      }
    },
    {
      "cell_type": "code",
      "source": [
        "plt.figure(figsize=(12,6))\n",
        "plt.plot(train_losses, label=\"Train Loss\")\n",
        "plt.plot(val_losses, label=\"Validation Loss\")\n",
        "plt.ylabel(\"loss over Epochs\")\n",
        "plt.xlabel(\"Epoch\")\n",
        "plt.legend()\n",
        "plt.show()\n",
        "\n",
        "# Both train loss and validation loss has been reduce significantly after 20 epochs. This result is considered quite good.\n",
        "# To get even better result, you can try increasing training data and number of epochs"
      ],
      "metadata": {
        "colab": {
          "base_uri": "https://localhost:8080/",
          "height": 562
        },
        "id": "JmuGxbpzOWbq",
        "outputId": "46e8dee6-dedb-4d08-c4f6-23242d8fcbc3"
      },
      "execution_count": 29,
      "outputs": [
        {
          "output_type": "display_data",
          "data": {
            "text/plain": [
              "<Figure size 1200x600 with 1 Axes>"
            ],
            "image/png": "[encoded data removed]"
          },
          "metadata": {}
        }
      ]
    },
    {
      "cell_type": "markdown",
      "source": [
        "### 6. **Prediction on new data**\n",
        "\n",
        "Finally, we've come to the stage which we've been waiting for. In order to find out how well our model is performing on new dataset. We've already prepared test_dataset earlier which is a toally a new dataset which we've not used until at this point. lets use it to make prediction."
      ],
      "metadata": {
        "id": "jaRH0bwGUG7a"
      }
    },
    {
      "cell_type": "code",
      "source": [
        "# Predicting the test dataset\n",
        "model.eval()\n",
        "pred_val = []\n",
        "target_val = []\n",
        "\n",
        "with torch.inference_mode():\n",
        "  for x_test, y_test in test_loader:\n",
        "    y_test_pred = model(x_test)\n",
        "    pred_val.append(y_test_pred)\n",
        "    target_val.append(y_test)"
      ],
      "metadata": {
        "id": "PaKY0eMnZlaV"
      },
      "execution_count": 30,
      "outputs": []
    },
    {
      "cell_type": "code",
      "source": [
        "labels = torch.cat(target_val).flatten().tolist()\n",
        "predictions = torch.cat(pred_val).flatten().tolist()\n",
        "\n",
        "plt.scatter(labels, predictions)\n",
        "\n",
        "max_lim = max(max(predictions), max(labels))\n",
        "max_lim += max_lim * 0.1\n",
        "\n",
        "plt.xlim(0, max_lim)\n",
        "plt.ylim(0, max_lim)\n",
        "\n",
        "plt.plot([0,max_lim], [0,max_lim], \"b-\")\n",
        "\n",
        "plt.xlabel(\"True Values\")\n",
        "plt.ylabel(\"Predicted Values\")\n",
        "plt.tight_layout()"
      ],
      "metadata": {
        "colab": {
          "base_uri": "https://localhost:8080/",
          "height": 487
        },
        "id": "QwOIk94iiBKU",
        "outputId": "069e93c2-6dea-4b30-af61-c43ca962d6e5"
      },
      "execution_count": 32,
      "outputs": [
        {
          "output_type": "display_data",
          "data": {
            "text/plain": [
              "<Figure size 640x480 with 1 Axes>"
            ],
            "image/png": "[encoded data removed]"
          },
          "metadata": {}
        }
      ]
    },
    {
      "cell_type": "markdown",
      "source": [
        "In this scatter plot, you can notice that our models predicted values and true values are quite closely located. Hence it proves that the model we have built and trained generalized fairly well on new test dataset."
      ],
      "metadata": {
        "id": "pDBnXk_BE5Qn"
      }
    },
    {
      "cell_type": "code",
      "source": [],
      "metadata": {
        "id": "-lQxqk5BbHuu"
      },
      "execution_count": null,
      "outputs": []
    }
  ]
}